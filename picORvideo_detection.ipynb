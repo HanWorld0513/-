{
 "cells": [
  {
   "cell_type": "code",
   "execution_count": 1,
   "id": "2ecfdb8c",
   "metadata": {},
   "outputs": [],
   "source": [
    "import cv2\n",
    "import autocar_module as m\n",
    "import numpy as np\n",
    " \n",
    "def get_avglines(lines):\n",
    "    if lines is None:                   # 如果有找到線段\n",
    "        print('偵測不到直線線段')\n",
    "        return None\n",
    "    #-----↓先依斜率分到左組或右組↓\n",
    "    lefts = []\n",
    "    rights = []\n",
    "    for line in lines:\n",
    "        points = line.reshape(4,)\n",
    "        x1, y1, x2, y2 = points\n",
    "        slope, b = np.polyfit((x1, x2), (y1, y2), 1)  # y = slope*x + b\n",
    "        # print(f'y = {slope} x + {b}')  #若有需要可將斜率與截距印出\n",
    "        if slope > 0:   # 斜率 > 0, 右邊的直線函數\n",
    "            rights.append([slope, b])  # 以 list 存入\n",
    "        else:       # 斜率 < 0, 左邊的直線函數\n",
    "            lefts.append([slope, b])  # 以 list 存入\n",
    "\n",
    "    #-----↓再計算左組與右組的平圴線↓\n",
    "    if rights and lefts:     # 必須同時有左右兩邊的直線函數\n",
    "        right_avg = np.average(rights, axis=0)    # 取得右邊的平均直線\n",
    "        left_avg = np.average(lefts, axis=0)      # 取得左邊的平均直線\n",
    "        return np.array([right_avg, left_avg])\n",
    "    else:\n",
    "        print('無法同時偵測到左右邊緣')\n",
    "        return None\n",
    "\n",
    "def get_sublines(img, avglines):\n",
    "    sublines = [] # 用於儲存線段座標\n",
    "    for line in avglines: # 一一取出所有直線函數\n",
    "        slope, b = line    # y = slope*x + b\n",
    "        y1 = img.shape[0] - 180 # 影像高度 (即影像的最底部位\n",
    "        y2 = int((y1+180)*(3/5)) # 取影像高度的 3/5 位置為線段\n",
    "        x1 = int((y1-b)/slope) #x = (y-b/m), 取得線段 x 座標\n",
    "        x2 = int((y2-b)/slope)\n",
    "        sublines.append([x1, y1, x2, y2])# 座標存入串列中\n",
    "    return np.array(sublines) # 將串列轉為陣列回傳 \n",
    "\n",
    "img = cv2.imread('road.jpg')\n",
    "edge = m.get_edge(img)  \n",
    "roi = m.get_roi(edge)\n",
    "lines = cv2.HoughLinesP(image = roi,\n",
    "                      rho = 3,\n",
    "                      theta = np.pi/180,\n",
    "                      threshold = 60,\n",
    "                      minLineLength = 40,\n",
    "                      maxLineGap = 50)\n",
    "avglines = get_avglines(lines)\n",
    "if avglines is not None:\n",
    "    lines = get_sublines(img, avglines)\n",
    "    img = m.draw_lines(img, lines)\n",
    "    cv2.imshow('Line', img)\n",
    "    cv2.waitKey(0)\n",
    "    cv2.destroyAllWindows()\n",
    "    cv2.waitKey(1)"
   ]
  },
  {
   "cell_type": "code",
   "execution_count": 3,
   "id": "a34a296d",
   "metadata": {},
   "outputs": [
    {
     "name": "stdout",
     "output_type": "stream",
     "text": [
      "exit\n"
     ]
    }
   ],
   "source": [
    "import cv2\n",
    "import autocar_module as m\n",
    "import numpy as np\n",
    "\n",
    "capture = cv2.VideoCapture('road.mp4')\n",
    "if capture.isOpened():\n",
    "    while True:\n",
    "        sucess, img = capture.read()\n",
    "        if sucess:\n",
    "            edge = m.get_edge(img)\n",
    "            roi = m.get_roi(edge)\n",
    "            lines = cv2.HoughLinesP(image = roi,\n",
    "                      rho = 3,\n",
    "                      theta = np.pi/180,\n",
    "                      threshold = 30,\n",
    "                      minLineLength = 50,\n",
    "                      maxLineGap = 40)\n",
    "            avglines = m.get_avglines(lines)\n",
    "            if avglines is not None:\n",
    "                lnies = m.get_sublines(img, avglines)\n",
    "                img = m.draw_lines(img,lines)\n",
    "                cv2.imshow('Frame',img)\n",
    "            k = cv2.waitKey(0)\n",
    "            if k == ord('q') or k == ord('Q'):\n",
    "                print('exit')\n",
    "                cv2.destroyAllWindows()\n",
    "                cv2.waitKey(1)\n",
    "                capture.release()\n",
    "                break\n",
    "else:\n",
    "    print('Fail to open camera')"
   ]
  },
  {
   "cell_type": "code",
   "execution_count": null,
   "id": "c980076d",
   "metadata": {},
   "outputs": [],
   "source": []
  }
 ],
 "metadata": {
  "kernelspec": {
   "display_name": "Python 3 (ipykernel)",
   "language": "python",
   "name": "python3"
  },
  "language_info": {
   "codemirror_mode": {
    "name": "ipython",
    "version": 3
   },
   "file_extension": ".py",
   "mimetype": "text/x-python",
   "name": "python",
   "nbconvert_exporter": "python",
   "pygments_lexer": "ipython3",
   "version": "3.9.7"
  }
 },
 "nbformat": 4,
 "nbformat_minor": 5
}
